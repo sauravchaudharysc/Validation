{
 "cells": [
  {
   "cell_type": "markdown",
   "metadata": {},
   "source": [
    "# Email Validation\n"
   ]
  },
  {
   "cell_type": "code",
   "execution_count": 8,
   "metadata": {},
   "outputs": [
    {
     "name": "stdout",
     "output_type": "stream",
     "text": [
      "Enter your Email\n",
      "h\n",
      "Not valid\n"
     ]
    }
   ],
   "source": [
    "import re\n",
    "\n",
    "#compiling regex\n",
    "check = re.compile(r\"(^[a-zA-Z0-9_.+-]+@[a-zA-Z0-9-]+\\.[a-zA-Z0-9-.]+$)\")\n",
    "\n",
    "print(\"Enter your Email\")\n",
    "#user input\n",
    "email = input()\n",
    "\n",
    "#searching regex\n",
    "a = check.search(email)\n",
    "\n",
    "#validation condition\n",
    "if a:\n",
    "  print(\"Yes, the email is valid!\")\n",
    "else:\n",
    "  print(\"Not valid\")\n"
   ]
  },
  {
   "cell_type": "markdown",
   "metadata": {},
   "source": [
    "## Conditions for a valid password are:\n",
    "\n",
    "#### Should have at least one number.\n",
    "#### Should have at least one uppercase and one lowercase character.\n",
    "#### Should have at least one special symbol.\n",
    "#### Should be between 6 to 20 characters long."
   ]
  },
  {
   "cell_type": "code",
   "execution_count": 11,
   "metadata": {},
   "outputs": [
    {
     "name": "stdout",
     "output_type": "stream",
     "text": [
      "1As@dadafafas\n",
      "Password is valid.\n"
     ]
    }
   ],
   "source": [
    "# ?= poistive look head \n",
    "import re\n",
    "reg = \"^(?=.*[a-z])(?=.*[A-Z])(?=.*\\d)(?=.*[@$!%*#?&])[A-Za-z\\d@$!#%*?&]{6,20}$\"\n",
    "      \n",
    "# compiling regex \n",
    "pat = re.compile(reg) \n",
    "\n",
    "#input\n",
    "passwd = input()\n",
    "\n",
    "# searching regex                  \n",
    "mat = re.search(pat, passwd) \n",
    "      \n",
    "# validating conditions \n",
    "if mat: \n",
    "   print(\"Password is valid.\") \n",
    "else: \n",
    "   print(\"Password invalid !!\") \n",
    "  "
   ]
  },
  {
   "cell_type": "code",
   "execution_count": null,
   "metadata": {},
   "outputs": [],
   "source": []
  }
 ],
 "metadata": {
  "kernelspec": {
   "display_name": "Python 3",
   "language": "python",
   "name": "python3"
  },
  "language_info": {
   "codemirror_mode": {
    "name": "ipython",
    "version": 3
   },
   "file_extension": ".py",
   "mimetype": "text/x-python",
   "name": "python",
   "nbconvert_exporter": "python",
   "pygments_lexer": "ipython3",
   "version": "3.7.4"
  }
 },
 "nbformat": 4,
 "nbformat_minor": 2
}
